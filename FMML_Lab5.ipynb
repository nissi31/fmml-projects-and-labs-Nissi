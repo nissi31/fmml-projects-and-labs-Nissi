{
  "cells": [
    {
      "cell_type": "markdown",
      "metadata": {
        "id": "view-in-github",
        "colab_type": "text"
      },
      "source": [
        "<a href=\"https://colab.research.google.com/github/nissi31/fmml-projects-and-labs-Nissi/blob/main/FMML_Lab5.ipynb\" target=\"_parent\"><img src=\"https://colab.research.google.com/assets/colab-badge.svg\" alt=\"Open In Colab\"/></a>"
      ]
    },
    {
      "cell_type": "markdown",
      "metadata": {
        "id": "w3yfry25JgZK"
      },
      "source": [
        "# Data Augmentation\n",
        "\n",
        "FMML Module 1, Lab 3\n",
        "\n",
        "In this lab, we will see how augmentation of data samples help in improving the machine learning performance. Augmentation is the process of creating new data samples by making reasonable modifications to the original data samples. This is particularly useful when the size of the training data is small. We will use the MNISt dataset for this lab. We will also reuse functions from the previous labs."
      ]
    },
    {
      "cell_type": "code",
      "execution_count": null,
      "metadata": {
        "id": "xZU8_elooqP0"
      },
      "outputs": [],
      "source": [
        "import numpy as np\n",
        "import matplotlib.pyplot as plt\n",
        "from keras.datasets import mnist\n",
        "from sklearn.utils.extmath import cartesian\n",
        "from skimage.transform import rotate, AffineTransform, warp\n",
        "\n",
        "rng = np.random.default_rng(seed=42)"
      ]
    },
    {
      "cell_type": "code",
      "execution_count": null,
      "metadata": {
        "id": "gJvmWJ58ovx5",
        "colab": {
          "base_uri": "https://localhost:8080/"
        },
        "outputId": "e3bd1353-5f12-4127-8975-36919f304716"
      },
      "outputs": [
        {
          "output_type": "stream",
          "name": "stdout",
          "text": [
            "Downloading data from https://storage.googleapis.com/tensorflow/tf-keras-datasets/mnist.npz\n",
            "\u001b[1m11490434/11490434\u001b[0m \u001b[32m━━━━━━━━━━━━━━━━━━━━\u001b[0m\u001b[37m\u001b[0m \u001b[1m1s\u001b[0m 0us/step\n"
          ]
        }
      ],
      "source": [
        "# loading the dataset\n",
        "(train_X, train_y), (test_X, test_y) = mnist.load_data()\n",
        "\n",
        "# normalizing the data\n",
        "train_X = train_X / 255\n",
        "test_X = test_X / 255\n",
        "\n",
        "# subsample from images and labels. Otherwise it will take too long!\n",
        "train_X = train_X[::1200, :, :].copy()\n",
        "train_y = train_y[::1200].copy()"
      ]
    },
    {
      "cell_type": "markdown",
      "metadata": {
        "id": "8XamH6z1Rt7S"
      },
      "source": [
        "Let us borrow a few functions from the previous labs:"
      ]
    },
    {
      "cell_type": "code",
      "execution_count": null,
      "metadata": {
        "id": "Zk2W5_3BRLMS"
      },
      "outputs": [],
      "source": [
        "def NN1(traindata, trainlabel, query):\n",
        "    \"\"\"\n",
        "    This function takes in the training data, training labels and a query point\n",
        "    and returns the predicted label for the query point using the nearest neighbour algorithm\n",
        "\n",
        "    traindata: numpy array of shape (n,d) where n is the number of samples and d is the number of features\n",
        "    trainlabel: numpy array of shape (n,) where n is the number of samples\n",
        "    query: numpy array of shape (d,) where d is the number of features\n",
        "\n",
        "    returns: the predicted label for the query point which is the label of the training data which is closest to the query point\n",
        "    \"\"\"\n",
        "    diff = (\n",
        "        traindata - query\n",
        "    )  # find the difference between features. Numpy automatically takes care of the size here\n",
        "    sq = diff * diff  # square the differences\n",
        "    dist = sq.sum(1)  # add up the squares\n",
        "    label = trainlabel[np.argmin(dist)]\n",
        "    return label\n",
        "\n",
        "\n",
        "def NN(traindata, trainlabel, testdata):\n",
        "    \"\"\"\n",
        "    This function takes in the training data, training labels and test data\n",
        "    and returns the predicted labels for the test data using the nearest neighbour algorithm\n",
        "\n",
        "    traindata: numpy array of shape (n,d) where n is the number of samples and d is the number of features\n",
        "    trainlabel: numpy array of shape (n,) where n is the number of samples\n",
        "    testdata: numpy array of shape (m,d) where m is the number of test samples and d is the number of features\n",
        "\n",
        "    returns: the predicted labels for the test data which is the label of the training data which is closest to each test point\n",
        "    \"\"\"\n",
        "    traindata = traindata.reshape(-1, 28*28)\n",
        "    testdata = testdata.reshape(-1, 28*28)\n",
        "    predlabel = np.array([NN1(traindata, trainlabel, i) for i in testdata])\n",
        "    return predlabel\n",
        "\n",
        "\n",
        "def Accuracy(gtlabel, predlabel):\n",
        "    \"\"\"\n",
        "    This function takes in the ground-truth labels and predicted labels\n",
        "    and returns the accuracy of the classifier\n",
        "\n",
        "    gtlabel: numpy array of shape (n,) where n is the number of samples\n",
        "    predlabel: numpy array of shape (n,) where n is the number of samples\n",
        "\n",
        "    returns: the accuracy of the classifier which is the number of correct predictions divided by the total number of predictions\n",
        "    \"\"\"\n",
        "    assert len(gtlabel) == len(\n",
        "        predlabel\n",
        "    ), \"Length of the ground-truth labels and predicted labels should be the same\"\n",
        "    correct = (\n",
        "        gtlabel == predlabel\n",
        "    ).sum()  # count the number of times the groundtruth label is equal to the predicted label.\n",
        "    return correct / len(gtlabel)"
      ]
    },
    {
      "cell_type": "markdown",
      "metadata": {
        "id": "eGiA3LmDSJZo"
      },
      "source": [
        "In this lab, we will use the image pixels themselves as features, instead of extracting features. Each image has 28*28 pixels, so we will flatten them to 784 pixels to use as features. Note that this is very compute intensive and will take a long time. Let us first check the baseline accuracy on the test set without any augmentations. We hope that adding augmentations will help us to get better results."
      ]
    },
    {
      "cell_type": "code",
      "execution_count": null,
      "metadata": {
        "colab": {
          "base_uri": "https://localhost:8080/"
        },
        "id": "4tQvnoasRNEV",
        "outputId": "54ab15be-c805-4f8d-a192-09cfd1644163"
      },
      "outputs": [
        {
          "output_type": "stream",
          "name": "stdout",
          "text": [
            "Baseline accuracy without augmentation: 64.72 %\n"
          ]
        }
      ],
      "source": [
        "testpred = NN(train_X, train_y, test_X)\n",
        "print(\"Baseline accuracy without augmentation:\",\n",
        "      Accuracy(test_y, testpred)*100, \"%\")"
      ]
    },
    {
      "cell_type": "markdown",
      "metadata": {
        "id": "ZfkcMfhIZQ7U"
      },
      "source": [
        "Let us try to improve this accuracy using augmentations. When we create augmentations, we have to make sure that the changes reflect what will naturally occur in the dataset. For example, we should not add colour to our samples as an augmentation because they do not naturally occur. We should not also flip the images in MNIST, because flipped images have different meanings for digits. So, we will use the following augmentations:\n",
        "\n",
        "### Augmentation 1: Rotation\n",
        "\n",
        "Let us try rotating the image a little. We will use the `rotate` function from the `skimage` module. We will rotate the image by 10 degrees and -10 degrees. Rotation is a reasonable augmentation because the digit will still be recognizable even after rotation and is representative of the dataset."
      ]
    },
    {
      "cell_type": "code",
      "execution_count": null,
      "metadata": {
        "colab": {
          "base_uri": "https://localhost:8080/",
          "height": 424
        },
        "id": "z5WolJ9fZE7L",
        "outputId": "2741c291-a8af-474c-c933-d68fce3482ab"
      },
      "outputs": [
        {
          "output_type": "display_data",
          "data": {
            "text/plain": [
              "<Figure size 1500x500 with 3 Axes>"
            ],
            "image/png": "[encoded data removed]"
          },
          "metadata": {}
        }
      ],
      "source": [
        "fig, axs = plt.subplots(1, 3, figsize=(15, 5))\n",
        "\n",
        "axs[0].imshow(train_X[2], cmap=\"gray\")\n",
        "axs[0].set_title(\"Original Image\")\n",
        "\n",
        "axs[1].imshow(rotate(train_X[2], 10), cmap=\"gray\")\n",
        "axs[1].set_title(\"Rotate +10 degrees\")\n",
        "\n",
        "axs[2].imshow(rotate(train_X[2], -10), cmap=\"gray\")\n",
        "axs[2].set_title(\"Rotate -10 degrees\")\n",
        "\n",
        "plt.show()"
      ]
    },
    {
      "cell_type": "markdown",
      "metadata": {
        "id": "KE33Yxgggu0c"
      },
      "source": [
        "After rotating, the the class of the image is still the same. Let us make a function to rotate multiple images by random angles. We want a slightly different image every time we run this function. So, we generate a random number between 0 and 1 and change it so that it lies between -constraint/2 and +constraint/2"
      ]
    },
    {
      "cell_type": "code",
      "execution_count": null,
      "metadata": {
        "id": "vyM7pUV7Reze"
      },
      "outputs": [],
      "source": [
        "def augRotate(sample, angleconstraint):\n",
        "    \"\"\"\n",
        "    This function takes in a sample and an angle constraint and returns the augmented sample\n",
        "    by rotating the sample by a random angle within the angle constraint\n",
        "\n",
        "    sample: numpy array of shape (n,d) where n is the number of samples and d is the number of features\n",
        "    angleconstraint: the maximum angle by which the sample can be rotated\n",
        "\n",
        "    returns: the augmented sample which is the input sample rotated by a random angle within the angle constraint\n",
        "    \"\"\"\n",
        "    if angleconstraint == 0:\n",
        "        return sample\n",
        "    if len(sample.shape) == 2:\n",
        "        # make sure the sample is 3 dimensional\n",
        "        sample = np.expand_dims(sample, 0)\n",
        "    angle = rng.random(len(sample))  # generate random numbers for angles\n",
        "    # make the random angle constrained\n",
        "    angle = (angle - 0.5) * angleconstraint\n",
        "    nsample = sample.copy()  # preallocate the augmented array to make it faster\n",
        "    for ii in range(len(sample)):\n",
        "        nsample[ii] = rotate(sample[ii], angle[ii])\n",
        "    return np.squeeze(nsample)  # take care if the input had only one sample."
      ]
    },
    {
      "cell_type": "markdown",
      "metadata": {
        "id": "kDk-N5VNjar9"
      },
      "source": [
        "This function returns a slightly different image each time we call it. So we can increase the number of images in the sample by any multiple."
      ]
    },
    {
      "cell_type": "code",
      "execution_count": null,
      "metadata": {
        "colab": {
          "base_uri": "https://localhost:8080/",
          "height": 283
        },
        "id": "Vw3O9zGFgI8K",
        "outputId": "9f0dc0af-7068-4d93-f823-a30b37af35b4"
      },
      "outputs": [
        {
          "output_type": "display_data",
          "data": {
            "text/plain": [
              "<Figure size 1500x500 with 5 Axes>"
            ],
            "image/png": "[encoded data removed]"
          },
          "metadata": {}
        }
      ],
      "source": [
        "sample = train_X[20]\n",
        "angleconstraint = 70\n",
        "\n",
        "fig, axs = plt.subplots(1, 5, figsize=(15, 5))\n",
        "\n",
        "axs[0].imshow(sample, cmap=\"gray\")\n",
        "axs[0].set_title(\"Original Image\")\n",
        "\n",
        "axs[1].imshow(augRotate(sample, angleconstraint), cmap=\"gray\")\n",
        "axs[1].set_title(\"Aug. Sample 1\")\n",
        "\n",
        "axs[2].imshow(augRotate(sample, angleconstraint), cmap=\"gray\")\n",
        "axs[2].set_title(\"Aug. Sample 2\")\n",
        "\n",
        "axs[3].imshow(augRotate(sample, angleconstraint), cmap=\"gray\")\n",
        "axs[3].set_title(\"Aug. Sample 3\")\n",
        "\n",
        "axs[4].imshow(augRotate(sample, angleconstraint), cmap=\"gray\")\n",
        "axs[4].set_title(\"Aug. Sample 4\")\n",
        "\n",
        "plt.show()"
      ]
    },
    {
      "cell_type": "markdown",
      "metadata": {
        "id": "ytv3NxF-kgxN"
      },
      "source": [
        "Let us augment the whole dataset and see if this improves the test accuracy"
      ]
    },
    {
      "cell_type": "code",
      "execution_count": null,
      "metadata": {
        "colab": {
          "base_uri": "https://localhost:8080/"
        },
        "id": "iNzNAoDBkRzj",
        "outputId": "2eb98d9a-56e5-444c-c897-5893d90f18d3"
      },
      "outputs": [
        {
          "output_type": "stream",
          "name": "stdout",
          "text": [
            "Accuracy after rotation augmentation: 67.66 %\n"
          ]
        }
      ],
      "source": [
        "# hyperparameters\n",
        "angleconstraint = 60\n",
        "naugmentations = 5\n",
        "\n",
        "# augment\n",
        "augdata = train_X  # we include the original images also in the augmented dataset\n",
        "auglabel = train_y\n",
        "for ii in range(naugmentations):\n",
        "    augdata = np.concatenate(\n",
        "        (augdata, augRotate(train_X, angleconstraint))\n",
        "    )  # concatenate the augmented data to the set\n",
        "    auglabel = np.concatenate(\n",
        "        (auglabel, train_y)\n",
        "    )  # the labels don't change when we augment\n",
        "\n",
        "# check the test accuracy\n",
        "testpred = NN(augdata, auglabel, test_X)\n",
        "print(\"Accuracy after rotation augmentation:\", Accuracy(test_y, testpred)*100, \"%\")"
      ]
    },
    {
      "cell_type": "markdown",
      "metadata": {
        "id": "E88Nt9s1p5R6"
      },
      "source": [
        "We can notice a 3-4% improvement compared to non-augmented version of the dataset!\n",
        "\n",
        "The angle constraint is a hyperparameter which we have to tune using a validation set. (Here we are not doing that for time constraints). Let us try a grid search to find the best angle constraint. We will try angles between 0 and 90 degrees. We can also try different multiples of the original dataset. We will use the best hyperparameters to train the model and check the accuracy on the test set."
      ]
    },
    {
      "cell_type": "code",
      "execution_count": null,
      "metadata": {
        "colab": {
          "base_uri": "https://localhost:8080/"
        },
        "id": "aiaFRLREmGp6",
        "outputId": "27299cf2-780a-49ed-ce1f-0aceff1b50d2"
      },
      "outputs": [
        {
          "output_type": "stream",
          "name": "stdout",
          "text": [
            "Accuracy after rotation augmentation constrained by -90 degrees is 65.11 %\n",
            "Accuracy after rotation augmentation constrained by -80 degrees is 64.71000000000001 %\n",
            "Accuracy after rotation augmentation constrained by -70 degrees is 65.7 %\n",
            "Accuracy after rotation augmentation constrained by -60 degrees is 67.54 %\n",
            "Accuracy after rotation augmentation constrained by -50 degrees is 66.09 %\n",
            "Accuracy after rotation augmentation constrained by -40 degrees is 67.78999999999999 %\n",
            "Accuracy after rotation augmentation constrained by -30 degrees is 67.38 %\n",
            "Accuracy after rotation augmentation constrained by -20 degrees is 67.39 %\n",
            "Accuracy after rotation augmentation constrained by -10 degrees is 66.57 %\n",
            "Accuracy after rotation augmentation constrained by 0 degrees is 64.72 %\n",
            "Accuracy after rotation augmentation constrained by 10 degrees is 67.05 %\n",
            "Accuracy after rotation augmentation constrained by 20 degrees is 67.97999999999999 %\n",
            "Accuracy after rotation augmentation constrained by 30 degrees is 68.11 %\n",
            "Accuracy after rotation augmentation constrained by 40 degrees is 65.53999999999999 %\n",
            "Accuracy after rotation augmentation constrained by 50 degrees is 67.24 %\n",
            "Accuracy after rotation augmentation constrained by 60 degrees is 66.36999999999999 %\n",
            "Accuracy after rotation augmentation constrained by 70 degrees is 65.98 %\n",
            "Accuracy after rotation augmentation constrained by 80 degrees is 63.1 %\n",
            "Accuracy after rotation augmentation constrained by 90 degrees is 64.95 %\n"
          ]
        }
      ],
      "source": [
        "angleconstraints = [-90,-80,-70,-60,-50,-40,-30,-20,-10,0, 10, 20, 30, 40, 50, 60, 70, 80, 90]  # the values we want to test\n",
        "accuracies = np.zeros(\n",
        "    len(angleconstraints), dtype=float\n",
        ")  # we will save the values here\n",
        "\n",
        "for ii in range(len(angleconstraints)):\n",
        "    # create the augmented dataset\n",
        "    augdata = train_X  # we include the original images also in the augmented dataset\n",
        "    auglabel = train_y\n",
        "    for jj in range(naugmentations):\n",
        "        augdata = np.concatenate(\n",
        "            (augdata, augRotate(train_X, angleconstraints[ii]))\n",
        "        )  # concatenate the augmented data to the set\n",
        "        auglabel = np.concatenate(\n",
        "            (auglabel, train_y)\n",
        "        )  # the labels don't change when we augment\n",
        "\n",
        "    # check the test accuracy\n",
        "    testpred = NN(augdata, auglabel, test_X)\n",
        "    accuracies[ii] = Accuracy(test_y, testpred)\n",
        "    print(\n",
        "        \"Accuracy after rotation augmentation constrained by\",\n",
        "        angleconstraints[ii],\n",
        "        \"degrees is\",\n",
        "        accuracies[ii]*100,\n",
        "        \"%\",\n",
        "        flush=True,\n",
        "    )"
      ]
    },
    {
      "cell_type": "markdown",
      "metadata": {
        "id": "2oVDRYP2rxob"
      },
      "source": [
        "Let us see the best value for angle constraint: (Ideally this should be done on validation set, not test set)"
      ]
    },
    {
      "cell_type": "code",
      "execution_count": null,
      "metadata": {
        "colab": {
          "base_uri": "https://localhost:8080/",
          "height": 481
        },
        "id": "LqthJa_pmMHz",
        "outputId": "7d1b2030-5bdd-4902-945c-0e0f38e5bfd2"
      },
      "outputs": [
        {
          "output_type": "execute_result",
          "data": {
            "text/plain": [
              "<matplotlib.collections.PathCollection at 0x7c9ecb332b90>"
            ]
          },
          "metadata": {},
          "execution_count": 10
        },
        {
          "output_type": "display_data",
          "data": {
            "text/plain": [
              "<Figure size 640x480 with 1 Axes>"
            ],
            "image/png": "[encoded data removed]"
          },
          "metadata": {}
        }
      ],
      "source": [
        "fig = plt.figure()\n",
        "ax = fig.add_axes([0.1, 0.1, 0.8, 0.8])\n",
        "# plot the variation of accuracy\n",
        "ax.plot(angleconstraints, accuracies)\n",
        "ax.set_xlabel(\"angle\")\n",
        "ax.set_ylabel(\"accuracy\")\n",
        "\n",
        "# plot the maximum accuracy\n",
        "maxind = np.argmax(accuracies)\n",
        "plt.scatter(angleconstraints[maxind], accuracies[maxind], c=\"red\")"
      ]
    },
    {
      "cell_type": "markdown",
      "metadata": {
        "id": "eJ8YuVfCuGTj"
      },
      "source": [
        "### Augmentation 2: Shear\n",
        "\n",
        "\n",
        "Let us try one more augmentation: shear. Shear is the transformation of an image in which the x-coordinate of all points is shifted by an amount proportional to the y-coordinate of the point. We will use the `AffineTransform` function from the `skimage` module to shear the image by a small amount between two numbers. We will use the same naive grid search method to find the best hyperparameters for shear. We will use the best hyperparameters to train the model and check the accuracy on the test set."
      ]
    },
    {
      "cell_type": "code",
      "execution_count": null,
      "metadata": {
        "id": "pMiw46NLwssK"
      },
      "outputs": [],
      "source": [
        "def shear(sample, amount):\n",
        "    \"\"\"\n",
        "    This function takes in a sample and an amount and returns the augmented sample\n",
        "    by shearing the sample by the given amount\n",
        "\n",
        "    sample: numpy array of shape (n,d) where n is the number of samples and d is the number of features\n",
        "    amount: the amount by which the sample should be sheared\n",
        "\n",
        "    returns: the augmented sample which is the input sample sheared by the given amount\n",
        "    \"\"\"\n",
        "    tform = AffineTransform(shear=amount)\n",
        "    img = warp(sample, tform)\n",
        "\n",
        "    # Applying shear makes the digit off-center\n",
        "    # Since all images are centralized, we will do the same here\n",
        "    col = img.sum(0).nonzero()[0]\n",
        "    row = img.sum(1).nonzero()[0]\n",
        "    if len(col) > 0 and len(row) > 0:\n",
        "        xshift = int(sample.shape[0] / 2 - (row[0] + row[-1]) / 2)\n",
        "        yshift = int(sample.shape[1] / 2 - (col[0] + col[-1]) / 2)\n",
        "        img = np.roll(img, (xshift, yshift), (0, 1))\n",
        "    return img"
      ]
    },
    {
      "cell_type": "code",
      "execution_count": null,
      "metadata": {
        "colab": {
          "base_uri": "https://localhost:8080/",
          "height": 335
        },
        "id": "4_u_EYpmnABK",
        "outputId": "95ea8c20-efc9-454a-c140-dee15eb0a9d6"
      },
      "outputs": [
        {
          "output_type": "display_data",
          "data": {
            "text/plain": [
              "<Figure size 1500x500 with 4 Axes>"
            ],
            "image/png": "[encoded data removed]"
          },
          "metadata": {}
        }
      ],
      "source": [
        "sample = train_X[2]\n",
        "fig, axs = plt.subplots(1, 4, figsize=(15, 5))\n",
        "\n",
        "axs[0].imshow(sample, cmap=\"gray\")\n",
        "axs[0].set_title(\"Original Image\")\n",
        "\n",
        "axs[1].imshow(shear(sample, 0.2), cmap=\"gray\")\n",
        "axs[1].set_title(\"Amount = 0.2\")\n",
        "\n",
        "axs[2].imshow(shear(sample, 0.4), cmap=\"gray\")\n",
        "axs[2].set_title(\"Amount = 0.4\")\n",
        "\n",
        "axs[3].imshow(shear(sample, 0.6), cmap=\"gray\")\n",
        "axs[3].set_title(\"Amount = 0.6\")\n",
        "\n",
        "plt.show()"
      ]
    },
    {
      "cell_type": "markdown",
      "metadata": {
        "id": "lGnWMoyM2pK4"
      },
      "source": [
        "Create an augmentation function which applies a random shear according to the constraint we provide:"
      ]
    },
    {
      "cell_type": "code",
      "execution_count": null,
      "metadata": {
        "id": "-qLDJyGytwP5"
      },
      "outputs": [],
      "source": [
        "def augShear(sample, shearconstraint):\n",
        "    \"\"\"\n",
        "    This function takes in a sample and a shear constraint and returns the augmented sample\n",
        "    by shearing the sample by a random amount within the shear constraint\n",
        "\n",
        "    sample: numpy array of shape (n,d) where n is the number of samples and d is the number of features\n",
        "    shearconstraint: the maximum shear by which the sample can be sheared\n",
        "\n",
        "    returns: the augmented sample which is the input sample sheared by a random amount within the shear constraint\n",
        "    \"\"\"\n",
        "    if shearconstraint == 0:\n",
        "        return sample\n",
        "    if len(sample.shape) == 2:\n",
        "        # make sure the sample is 3 dimensional\n",
        "        sample = np.expand_dims(sample, 0)\n",
        "    amt = rng.random(len(sample))  # generate random numbers for shear\n",
        "    amt = (amt - 0.5) * shearconstraint  # make the random shear constrained\n",
        "    nsample = sample.copy()  # preallocate the augmented array to make it faster\n",
        "    for ii in range(len(sample)):\n",
        "        nsample[ii] = shear(sample[ii], amt[ii])\n",
        "    return np.squeeze(nsample)  # take care if the input had only one sample."
      ]
    },
    {
      "cell_type": "markdown",
      "metadata": {
        "id": "s6lQcWW93suJ"
      },
      "source": [
        "Let us do a grid search to find the best shear constraint."
      ]
    },
    {
      "cell_type": "code",
      "execution_count": null,
      "metadata": {
        "colab": {
          "base_uri": "https://localhost:8080/"
        },
        "id": "l_wrqPkrzBb_",
        "outputId": "daf7e5bc-a839-4213-c49f-b646f0947c5b"
      },
      "outputs": [
        {
          "output_type": "stream",
          "name": "stdout",
          "text": [
            "Accuracy after shear augmentation constrained by -2.0 is 63.959999999999994 %\n",
            "Accuracy after shear augmentation constrained by -1.8 is 64.46 %\n",
            "Accuracy after shear augmentation constrained by -1.6 is 63.27 %\n",
            "Accuracy after shear augmentation constrained by -1.4 is 65.02 %\n",
            "Accuracy after shear augmentation constrained by -1.2 is 65.39 %\n",
            "Accuracy after shear augmentation constrained by -1.0 is 66.84 %\n",
            "Accuracy after shear augmentation constrained by -0.8 is 65.96 %\n",
            "Accuracy after shear augmentation constrained by -0.6 is 66.08000000000001 %\n",
            "Accuracy after shear augmentation constrained by -0.4 is 64.37 %\n",
            "Accuracy after shear augmentation constrained by -0.2 is 63.339999999999996 %\n",
            "Accuracy after shear augmentation constrained by 0 is 64.72 %\n",
            "Accuracy after shear augmentation constrained by 0.2 is 62.88 %\n",
            "Accuracy after shear augmentation constrained by 0.4 is 63.5 %\n",
            "Accuracy after shear augmentation constrained by 0.6 is 65.22 %\n",
            "Accuracy after shear augmentation constrained by 0.8 is 65.82000000000001 %\n",
            "Accuracy after shear augmentation constrained by 1.0 is 65.49000000000001 %\n",
            "Accuracy after shear augmentation constrained by 1.2 is 63.980000000000004 %\n",
            "Accuracy after shear augmentation constrained by 1.4 is 66.21000000000001 %\n",
            "Accuracy after shear augmentation constrained by 1.6 is 63.38 %\n",
            "Accuracy after shear augmentation constrained by 1.8 is 63.31 %\n",
            "Accuracy after shear augmentation constrained by 2.0 is 62.21 %\n"
          ]
        }
      ],
      "source": [
        "shearconstraints = [-2.0,-1.8,-1.6,-1.4,-1.2,-1.0,-0.8,-0.6,-0.4,-0.2,\n",
        "    0,\n",
        "    0.2,\n",
        "    0.4,\n",
        "    0.6,\n",
        "    0.8,\n",
        "    1.0,\n",
        "    1.2,\n",
        "    1.4,\n",
        "    1.6,\n",
        "    1.8,\n",
        "    2.0,\n",
        "]  # the values we want to test\n",
        "accuracies = np.zeros(\n",
        "    len(shearconstraints), dtype=float\n",
        ")  # we will save the values here\n",
        "\n",
        "for ii in range(len(shearconstraints)):\n",
        "    # create the augmented dataset\n",
        "    augdata = train_X  # we include the original images also in the augmented dataset\n",
        "    auglabel = train_y\n",
        "    for jj in range(naugmentations):\n",
        "        augdata = np.concatenate(\n",
        "            (augdata, augShear(train_X, shearconstraints[ii]))\n",
        "        )  # concatenate the augmented data to the set\n",
        "        auglabel = np.concatenate(\n",
        "            (auglabel, train_y)\n",
        "        )  # the labels don't change when we augment\n",
        "\n",
        "    # check the test accuracy\n",
        "    testpred = NN(augdata, auglabel, test_X)\n",
        "    accuracies[ii] = Accuracy(test_y, testpred)\n",
        "    print(\n",
        "        \"Accuracy after shear augmentation constrained by\",\n",
        "        shearconstraints[ii],\n",
        "        \"is\",\n",
        "        accuracies[ii]*100,\n",
        "        \"%\",\n",
        "        flush=True,\n",
        "    )"
      ]
    },
    {
      "cell_type": "code",
      "execution_count": null,
      "metadata": {
        "colab": {
          "base_uri": "https://localhost:8080/",
          "height": 481
        },
        "id": "EKaH-YR-zVnA",
        "outputId": "5fd4f986-996e-499a-dd06-274651422d6c"
      },
      "outputs": [
        {
          "output_type": "execute_result",
          "data": {
            "text/plain": [
              "<matplotlib.collections.PathCollection at 0x7c9eca40c430>"
            ]
          },
          "metadata": {},
          "execution_count": 20
        },
        {
          "output_type": "display_data",
          "data": {
            "text/plain": [
              "<Figure size 640x480 with 1 Axes>"
            ],
            "image/png": "[encoded data removed]"
          },
          "metadata": {}
        }
      ],
      "source": [
        "fig = plt.figure()\n",
        "ax = fig.add_axes([0.1, 0.1, 0.8, 0.8])\n",
        "# plot the variation of accuracy\n",
        "ax.plot(shearconstraints, accuracies)\n",
        "ax.set_xlabel(\"angle\")\n",
        "ax.set_ylabel(\"accuracy\")\n",
        "\n",
        "# plot the maximum accuracy\n",
        "maxind = np.argmax(accuracies)\n",
        "plt.scatter(shearconstraints[maxind], accuracies[maxind], c=\"red\")"
      ]
    },
    {
      "cell_type": "markdown",
      "metadata": {
        "id": "ccfdbRcQ7Zgg"
      },
      "source": [
        "### Augmentation 3: Rotation + Shear\n",
        "\n",
        "\n",
        "\n",
        "We can do multiple augmentations at the same time. Here is a function to do both shear and rotation to the sample. In this case, we will have two hyperparameters."
      ]
    },
    {
      "cell_type": "code",
      "execution_count": null,
      "metadata": {
        "id": "sh8S_Pxa0XCv"
      },
      "outputs": [],
      "source": [
        "def augRotateShear(sample, angleconstraint, shearconstraint):\n",
        "    \"\"\"\n",
        "    This function takes in a sample, an angle constraint and a shear constraint and returns the augmented sample\n",
        "    by rotating the sample by a random angle within the angle constraint and shearing the sample by a random amount within the shear constraint\n",
        "\n",
        "    sample: numpy array of shape (n,d) where n is the number of samples and d is the number of features\n",
        "    angleconstraint: the maximum angle by which the sample can be rotated\n",
        "    shearconstraint: the maximum shear by which the sample can be sheared\n",
        "\n",
        "    returns: the augmented sample which is the input sample rotated by a random angle within the angle constraint and sheared by a random amount within the shear constraint\n",
        "    \"\"\"\n",
        "    if len(sample.shape) == 2:\n",
        "        # make sure the sample is 3 dimensional\n",
        "        sample = np.expand_dims(sample, 0)\n",
        "    amt = rng.random(len(sample))  # generate random numbers for shear\n",
        "    amt = (amt - 0.5) * shearconstraint  # make the random shear constrained\n",
        "    angle = rng.random(len(sample))  # generate random numbers for angles\n",
        "    # make the random angle constrained\n",
        "    angle = (angle - 0.5) * angleconstraint\n",
        "    nsample = sample.copy()  # preallocate the augmented array to make it faster\n",
        "    for ii in range(len(sample)):\n",
        "        nsample[ii] = rotate(\n",
        "            shear(sample[ii], amt[ii]), angle[ii]\n",
        "        )  # first apply shear, then rotate\n",
        "    return np.squeeze(nsample)  # take care if the input had only one sample."
      ]
    },
    {
      "cell_type": "markdown",
      "metadata": {
        "id": "OGKyjjNx-NQ4"
      },
      "source": [
        "Since we have two hyperparameters, we have to do the grid search on a 2 dimensional matrix. We can use our previous experience to inform where to search for the best hyperparameters."
      ]
    },
    {
      "cell_type": "code",
      "execution_count": null,
      "metadata": {
        "colab": {
          "base_uri": "https://localhost:8080/"
        },
        "id": "TJC45WRg0pOP",
        "outputId": "336e75d3-fe85-4447-9689-83670edb65a1"
      },
      "outputs": [
        {
          "output_type": "stream",
          "name": "stdout",
          "text": [
            "Accuracy after augmentation shear: -1.4 angle: -60.0 is 64.66 %\n",
            "Accuracy after augmentation shear: -1.4 angle: -50.0 is 59.91 %\n",
            "Accuracy after augmentation shear: -1.4 angle: -40.0 is 62.57 %\n",
            "Accuracy after augmentation shear: -1.4 angle: -30.0 is 63.12 %\n",
            "Accuracy after augmentation shear: -1.4 angle: -20.0 is 65.08 %\n",
            "Accuracy after augmentation shear: -1.4 angle: -10.0 is 62.46000000000001 %\n",
            "Accuracy after augmentation shear: -1.4 angle: 0.0 is 63.41 %\n",
            "Accuracy after augmentation shear: -1.4 angle: 10.0 is 62.21 %\n",
            "Accuracy after augmentation shear: -1.4 angle: 20.0 is 62.86000000000001 %\n",
            "Accuracy after augmentation shear: -1.4 angle: 30.0 is 60.73 %\n",
            "Accuracy after augmentation shear: -1.4 angle: 40.0 is 62.41 %\n",
            "Accuracy after augmentation shear: -1.4 angle: 50.0 is 60.81999999999999 %\n",
            "Accuracy after augmentation shear: -1.4 angle: 60.0 is 62.61 %\n",
            "Accuracy after augmentation shear: -1.2 angle: -60.0 is 61.4 %\n",
            "Accuracy after augmentation shear: -1.2 angle: -50.0 is 61.49 %\n",
            "Accuracy after augmentation shear: -1.2 angle: -40.0 is 60.46 %\n",
            "Accuracy after augmentation shear: -1.2 angle: -30.0 is 59.85 %\n",
            "Accuracy after augmentation shear: -1.2 angle: -20.0 is 62.06 %\n",
            "Accuracy after augmentation shear: -1.2 angle: -10.0 is 61.38 %\n",
            "Accuracy after augmentation shear: -1.2 angle: 0.0 is 63.33 %\n",
            "Accuracy after augmentation shear: -1.2 angle: 10.0 is 61.61 %\n",
            "Accuracy after augmentation shear: -1.2 angle: 20.0 is 61.660000000000004 %\n",
            "Accuracy after augmentation shear: -1.2 angle: 30.0 is 61.870000000000005 %\n",
            "Accuracy after augmentation shear: -1.2 angle: 40.0 is 63.5 %\n",
            "Accuracy after augmentation shear: -1.2 angle: 50.0 is 61.86000000000001 %\n",
            "Accuracy after augmentation shear: -1.2 angle: 60.0 is 61.59 %\n",
            "Accuracy after augmentation shear: -1.0 angle: -60.0 is 61.3 %\n",
            "Accuracy after augmentation shear: -1.0 angle: -50.0 is 61.18 %\n",
            "Accuracy after augmentation shear: -1.0 angle: -40.0 is 61.4 %\n",
            "Accuracy after augmentation shear: -1.0 angle: -30.0 is 62.580000000000005 %\n",
            "Accuracy after augmentation shear: -1.0 angle: -20.0 is 63.190000000000005 %\n",
            "Accuracy after augmentation shear: -1.0 angle: -10.0 is 62.77 %\n",
            "Accuracy after augmentation shear: -1.0 angle: 0.0 is 63.43 %\n",
            "Accuracy after augmentation shear: -1.0 angle: 10.0 is 63.21 %\n",
            "Accuracy after augmentation shear: -1.0 angle: 20.0 is 62.160000000000004 %\n",
            "Accuracy after augmentation shear: -1.0 angle: 30.0 is 62.580000000000005 %\n",
            "Accuracy after augmentation shear: -1.0 angle: 40.0 is 61.11 %\n",
            "Accuracy after augmentation shear: -1.0 angle: 50.0 is 61.71 %\n",
            "Accuracy after augmentation shear: -1.0 angle: 60.0 is 64.03 %\n",
            "Accuracy after augmentation shear: -0.8 angle: -60.0 is 62.08 %\n",
            "Accuracy after augmentation shear: -0.8 angle: -50.0 is 62.89 %\n",
            "Accuracy after augmentation shear: -0.8 angle: -40.0 is 60.870000000000005 %\n",
            "Accuracy after augmentation shear: -0.8 angle: -30.0 is 58.85 %\n",
            "Accuracy after augmentation shear: -0.8 angle: -20.0 is 61.38 %\n",
            "Accuracy after augmentation shear: -0.8 angle: -10.0 is 60.8 %\n",
            "Accuracy after augmentation shear: -0.8 angle: 0.0 is 63.43 %\n",
            "Accuracy after augmentation shear: -0.8 angle: 10.0 is 61.38 %\n",
            "Accuracy after augmentation shear: -0.8 angle: 20.0 is 62.27 %\n",
            "Accuracy after augmentation shear: -0.8 angle: 30.0 is 61.19 %\n",
            "Accuracy after augmentation shear: -0.8 angle: 40.0 is 61.11 %\n",
            "Accuracy after augmentation shear: -0.8 angle: 50.0 is 61.96 %\n",
            "Accuracy after augmentation shear: -0.8 angle: 60.0 is 63.949999999999996 %\n",
            "Accuracy after augmentation shear: -0.6 angle: -60.0 is 61.68 %\n",
            "Accuracy after augmentation shear: -0.6 angle: -50.0 is 63.0 %\n",
            "Accuracy after augmentation shear: -0.6 angle: -40.0 is 62.89 %\n",
            "Accuracy after augmentation shear: -0.6 angle: -30.0 is 62.9 %\n",
            "Accuracy after augmentation shear: -0.6 angle: -20.0 is 63.39 %\n",
            "Accuracy after augmentation shear: -0.6 angle: -10.0 is 61.41 %\n",
            "Accuracy after augmentation shear: -0.6 angle: 0.0 is 63.39 %\n",
            "Accuracy after augmentation shear: -0.6 angle: 10.0 is 64.27000000000001 %\n",
            "Accuracy after augmentation shear: -0.6 angle: 20.0 is 63.5 %\n",
            "Accuracy after augmentation shear: -0.6 angle: 30.0 is 61.69 %\n",
            "Accuracy after augmentation shear: -0.6 angle: 40.0 is 59.91 %\n",
            "Accuracy after augmentation shear: -0.6 angle: 50.0 is 62.88 %\n",
            "Accuracy after augmentation shear: -0.6 angle: 60.0 is 60.589999999999996 %\n",
            "Accuracy after augmentation shear: -0.4 angle: -60.0 is 61.760000000000005 %\n",
            "Accuracy after augmentation shear: -0.4 angle: -50.0 is 62.13999999999999 %\n",
            "Accuracy after augmentation shear: -0.4 angle: -40.0 is 63.870000000000005 %\n",
            "Accuracy after augmentation shear: -0.4 angle: -30.0 is 61.49 %\n",
            "Accuracy after augmentation shear: -0.4 angle: -20.0 is 62.260000000000005 %\n",
            "Accuracy after augmentation shear: -0.4 angle: -10.0 is 62.019999999999996 %\n",
            "Accuracy after augmentation shear: -0.4 angle: 0.0 is 63.449999999999996 %\n",
            "Accuracy after augmentation shear: -0.4 angle: 10.0 is 61.739999999999995 %\n",
            "Accuracy after augmentation shear: -0.4 angle: 20.0 is 61.809999999999995 %\n",
            "Accuracy after augmentation shear: -0.4 angle: 30.0 is 62.33 %\n",
            "Accuracy after augmentation shear: -0.4 angle: 40.0 is 60.56 %\n",
            "Accuracy after augmentation shear: -0.4 angle: 50.0 is 61.309999999999995 %\n",
            "Accuracy after augmentation shear: -0.4 angle: 60.0 is 64.68 %\n",
            "Accuracy after augmentation shear: -0.2 angle: -60.0 is 63.449999999999996 %\n",
            "Accuracy after augmentation shear: -0.2 angle: -50.0 is 63.260000000000005 %\n",
            "Accuracy after augmentation shear: -0.2 angle: -40.0 is 60.040000000000006 %\n",
            "Accuracy after augmentation shear: -0.2 angle: -30.0 is 64.05999999999999 %\n",
            "Accuracy after augmentation shear: -0.2 angle: -20.0 is 59.61 %\n",
            "Accuracy after augmentation shear: -0.2 angle: -10.0 is 62.6 %\n",
            "Accuracy after augmentation shear: -0.2 angle: 0.0 is 63.36000000000001 %\n",
            "Accuracy after augmentation shear: -0.2 angle: 10.0 is 60.67 %\n",
            "Accuracy after augmentation shear: -0.2 angle: 20.0 is 61.150000000000006 %\n",
            "Accuracy after augmentation shear: -0.2 angle: 30.0 is 60.0 %\n",
            "Accuracy after augmentation shear: -0.2 angle: 40.0 is 62.43 %\n",
            "Accuracy after augmentation shear: -0.2 angle: 50.0 is 62.849999999999994 %\n",
            "Accuracy after augmentation shear: -0.2 angle: 60.0 is 63.580000000000005 %\n",
            "Accuracy after augmentation shear: 0.0 angle: -60.0 is 61.94 %\n",
            "Accuracy after augmentation shear: 0.0 angle: -50.0 is 61.739999999999995 %\n",
            "Accuracy after augmentation shear: 0.0 angle: -40.0 is 62.519999999999996 %\n",
            "Accuracy after augmentation shear: 0.0 angle: -30.0 is 62.839999999999996 %\n",
            "Accuracy after augmentation shear: 0.0 angle: -20.0 is 62.39 %\n",
            "Accuracy after augmentation shear: 0.0 angle: -10.0 is 59.589999999999996 %\n",
            "Accuracy after augmentation shear: 0.0 angle: 0.0 is 63.32 %\n",
            "Accuracy after augmentation shear: 0.0 angle: 10.0 is 61.019999999999996 %\n",
            "Accuracy after augmentation shear: 0.0 angle: 20.0 is 63.629999999999995 %\n",
            "Accuracy after augmentation shear: 0.0 angle: 30.0 is 64.37 %\n",
            "Accuracy after augmentation shear: 0.0 angle: 40.0 is 62.74999999999999 %\n",
            "Accuracy after augmentation shear: 0.0 angle: 50.0 is 61.75000000000001 %\n",
            "Accuracy after augmentation shear: 0.0 angle: 60.0 is 59.870000000000005 %\n",
            "Accuracy after augmentation shear: 0.2 angle: -60.0 is 60.519999999999996 %\n",
            "Accuracy after augmentation shear: 0.2 angle: -50.0 is 60.480000000000004 %\n",
            "Accuracy after augmentation shear: 0.2 angle: -40.0 is 61.31999999999999 %\n",
            "Accuracy after augmentation shear: 0.2 angle: -30.0 is 62.17 %\n",
            "Accuracy after augmentation shear: 0.2 angle: -20.0 is 61.9 %\n",
            "Accuracy after augmentation shear: 0.2 angle: -10.0 is 60.629999999999995 %\n",
            "Accuracy after augmentation shear: 0.2 angle: 0.0 is 63.339999999999996 %\n",
            "Accuracy after augmentation shear: 0.2 angle: 10.0 is 62.06 %\n",
            "Accuracy after augmentation shear: 0.2 angle: 20.0 is 61.129999999999995 %\n",
            "Accuracy after augmentation shear: 0.2 angle: 30.0 is 60.029999999999994 %\n",
            "Accuracy after augmentation shear: 0.2 angle: 40.0 is 60.81999999999999 %\n",
            "Accuracy after augmentation shear: 0.2 angle: 50.0 is 61.86000000000001 %\n",
            "Accuracy after augmentation shear: 0.2 angle: 60.0 is 62.23 %\n",
            "Accuracy after augmentation shear: 0.4 angle: -60.0 is 61.029999999999994 %\n",
            "Accuracy after augmentation shear: 0.4 angle: -50.0 is 62.35000000000001 %\n",
            "Accuracy after augmentation shear: 0.4 angle: -40.0 is 61.8 %\n",
            "Accuracy after augmentation shear: 0.4 angle: -30.0 is 60.81999999999999 %\n",
            "Accuracy after augmentation shear: 0.4 angle: -20.0 is 61.63999999999999 %\n",
            "Accuracy after augmentation shear: 0.4 angle: -10.0 is 61.309999999999995 %\n",
            "Accuracy after augmentation shear: 0.4 angle: 0.0 is 63.370000000000005 %\n",
            "Accuracy after augmentation shear: 0.4 angle: 10.0 is 63.080000000000005 %\n",
            "Accuracy after augmentation shear: 0.4 angle: 20.0 is 63.260000000000005 %\n",
            "Accuracy after augmentation shear: 0.4 angle: 30.0 is 60.36 %\n",
            "Accuracy after augmentation shear: 0.4 angle: 40.0 is 62.74999999999999 %\n",
            "Accuracy after augmentation shear: 0.4 angle: 50.0 is 62.370000000000005 %\n",
            "Accuracy after augmentation shear: 0.4 angle: 60.0 is 63.17 %\n",
            "Accuracy after augmentation shear: 0.6 angle: -60.0 is 63.129999999999995 %\n",
            "Accuracy after augmentation shear: 0.6 angle: -50.0 is 60.84 %\n",
            "Accuracy after augmentation shear: 0.6 angle: -40.0 is 58.650000000000006 %\n",
            "Accuracy after augmentation shear: 0.6 angle: -30.0 is 63.54 %\n",
            "Accuracy after augmentation shear: 0.6 angle: -20.0 is 61.24000000000001 %\n",
            "Accuracy after augmentation shear: 0.6 angle: -10.0 is 60.06 %\n",
            "Accuracy after augmentation shear: 0.6 angle: 0.0 is 63.339999999999996 %\n",
            "Accuracy after augmentation shear: 0.6 angle: 10.0 is 59.8 %\n",
            "Accuracy after augmentation shear: 0.6 angle: 20.0 is 62.6 %\n",
            "Accuracy after augmentation shear: 0.6 angle: 30.0 is 63.349999999999994 %\n",
            "Accuracy after augmentation shear: 0.6 angle: 40.0 is 62.480000000000004 %\n",
            "Accuracy after augmentation shear: 0.6 angle: 50.0 is 62.11 %\n",
            "Accuracy after augmentation shear: 0.6 angle: 60.0 is 59.260000000000005 %\n",
            "Accuracy after augmentation shear: 0.8 angle: -60.0 is 62.73 %\n",
            "Accuracy after augmentation shear: 0.8 angle: -50.0 is 60.099999999999994 %\n",
            "Accuracy after augmentation shear: 0.8 angle: -40.0 is 63.39 %\n",
            "Accuracy after augmentation shear: 0.8 angle: -30.0 is 60.45 %\n",
            "Accuracy after augmentation shear: 0.8 angle: -20.0 is 60.72 %\n",
            "Accuracy after augmentation shear: 0.8 angle: -10.0 is 63.0 %\n",
            "Accuracy after augmentation shear: 0.8 angle: 0.0 is 63.31 %\n",
            "Accuracy after augmentation shear: 0.8 angle: 10.0 is 62.629999999999995 %\n",
            "Accuracy after augmentation shear: 0.8 angle: 20.0 is 62.82 %\n",
            "Accuracy after augmentation shear: 0.8 angle: 30.0 is 62.5 %\n",
            "Accuracy after augmentation shear: 0.8 angle: 40.0 is 61.519999999999996 %\n",
            "Accuracy after augmentation shear: 0.8 angle: 50.0 is 62.839999999999996 %\n",
            "Accuracy after augmentation shear: 0.8 angle: 60.0 is 62.63999999999999 %\n",
            "Accuracy after augmentation shear: 1.0 angle: -60.0 is 61.94 %\n",
            "Accuracy after augmentation shear: 1.0 angle: -50.0 is 59.440000000000005 %\n",
            "Accuracy after augmentation shear: 1.0 angle: -40.0 is 61.660000000000004 %\n",
            "Accuracy after augmentation shear: 1.0 angle: -30.0 is 60.86 %\n",
            "Accuracy after augmentation shear: 1.0 angle: -20.0 is 62.23 %\n",
            "Accuracy after augmentation shear: 1.0 angle: -10.0 is 62.59 %\n",
            "Accuracy after augmentation shear: 1.0 angle: 0.0 is 63.46000000000001 %\n",
            "Accuracy after augmentation shear: 1.0 angle: 10.0 is 62.94 %\n",
            "Accuracy after augmentation shear: 1.0 angle: 20.0 is 60.5 %\n",
            "Accuracy after augmentation shear: 1.2 angle: -60.0 is 63.260000000000005 %\n",
            "Accuracy after augmentation shear: 1.2 angle: -50.0 is 63.839999999999996 %\n",
            "Accuracy after augmentation shear: 1.2 angle: -40.0 is 58.02 %\n",
            "Accuracy after augmentation shear: 1.2 angle: -30.0 is 63.029999999999994 %\n",
            "Accuracy after augmentation shear: 1.2 angle: -20.0 is 60.35 %\n",
            "Accuracy after augmentation shear: 1.2 angle: -10.0 is 60.57 %\n",
            "Accuracy after augmentation shear: 1.2 angle: 0.0 is 63.24999999999999 %\n",
            "Accuracy after augmentation shear: 1.2 angle: 10.0 is 60.77 %\n",
            "Accuracy after augmentation shear: 1.2 angle: 20.0 is 62.519999999999996 %\n",
            "Accuracy after augmentation shear: 1.2 angle: 30.0 is 60.23 %\n",
            "Accuracy after augmentation shear: 1.2 angle: 40.0 is 61.14000000000001 %\n",
            "Accuracy after augmentation shear: 1.2 angle: 50.0 is 60.56 %\n",
            "Accuracy after augmentation shear: 1.2 angle: 60.0 is 61.28 %\n",
            "Accuracy after augmentation shear: 1.4 angle: -60.0 is 62.5 %\n",
            "Accuracy after augmentation shear: 1.4 angle: -50.0 is 62.46000000000001 %\n",
            "Accuracy after augmentation shear: 1.4 angle: -40.0 is 60.8 %\n",
            "Accuracy after augmentation shear: 1.4 angle: -30.0 is 60.81999999999999 %\n",
            "Accuracy after augmentation shear: 1.4 angle: -20.0 is 63.690000000000005 %\n",
            "Accuracy after augmentation shear: 1.4 angle: -10.0 is 62.56 %\n",
            "Accuracy after augmentation shear: 1.4 angle: 0.0 is 63.42 %\n",
            "Accuracy after augmentation shear: 1.4 angle: 10.0 is 60.83 %\n",
            "Accuracy after augmentation shear: 1.4 angle: 20.0 is 62.12 %\n",
            "Accuracy after augmentation shear: 1.4 angle: 30.0 is 60.29 %\n",
            "Accuracy after augmentation shear: 1.4 angle: 40.0 is 62.68 %\n",
            "Accuracy after augmentation shear: 1.4 angle: 50.0 is 60.79 %\n",
            "Accuracy after augmentation shear: 1.4 angle: 60.0 is 60.99 %\n"
          ]
        }
      ],
      "source": [
        "shearconstraints = [-1.4,-1.2,-1.0,-0.8,-0.6,-0.4,-0.2,\n",
        "    0,\n",
        "    0.2,\n",
        "    0.4,\n",
        "    0.6,\n",
        "    0.8,\n",
        "    1.0,\n",
        "    1.2,\n",
        "    1.4,\n",
        "]  # the values we want to test\n",
        "angleconstraints = [-60,-50,-40,-30,-20,-10,0, 10, 20, 30, 40, 50, 60]  # the values we want to test\n",
        "# cartesian product of both\n",
        "hyp = cartesian((shearconstraints, angleconstraints))\n",
        "\n",
        "accuracies = np.zeros(len(hyp), dtype=float)  # we will save the values here\n",
        "\n",
        "for ii in range(len(hyp)):\n",
        "    # create the augmented dataset\n",
        "    augdata = train_X  # we include the original images also in the augmented dataset\n",
        "    auglabel = train_y\n",
        "    for jj in range(naugmentations):\n",
        "        augdata = np.concatenate(\n",
        "            (augdata, augRotateShear(train_X, hyp[ii][0], hyp[ii][1]))\n",
        "        )  # concatenate the augmented data to the set\n",
        "        auglabel = np.concatenate(\n",
        "            (auglabel, train_y)\n",
        "        )  # the labels don't change when we augment\n",
        "\n",
        "    # check the test accuracy\n",
        "    testpred = NN(augdata, auglabel, test_X)\n",
        "    accuracies[ii] = Accuracy(test_y, testpred)\n",
        "    print(\n",
        "        \"Accuracy after augmentation shear:\",\n",
        "        hyp[ii][0],\n",
        "        \"angle:\",\n",
        "        hyp[ii][1],\n",
        "        \"is\",\n",
        "        accuracies[ii]*100,\n",
        "        \"%\",\n",
        "        flush=True,\n",
        "    )"
      ]
    },
    {
      "cell_type": "markdown",
      "metadata": {
        "id": "PT6CnvSDEX7a"
      },
      "source": [
        "Let us plot it two dimensionally to see which is the best value for the hyperparameters:"
      ]
    },
    {
      "cell_type": "code",
      "execution_count": null,
      "metadata": {
        "colab": {
          "base_uri": "https://localhost:8080/",
          "height": 482
        },
        "id": "jD2i7msI_cLd",
        "outputId": "a1143af0-82cd-48a4-a8fc-ff136f36881e"
      },
      "outputs": [
        {
          "output_type": "execute_result",
          "data": {
            "text/plain": [
              "<matplotlib.colorbar.Colorbar at 0x7c9eca0f2200>"
            ]
          },
          "metadata": {},
          "execution_count": 23
        },
        {
          "output_type": "display_data",
          "data": {
            "text/plain": [
              "<Figure size 640x480 with 2 Axes>"
            ],
            "image/png": "[encoded data removed]"
          },
          "metadata": {}
        }
      ],
      "source": [
        "fig = plt.figure()\n",
        "ax = fig.add_axes([0.1, 0.1, 0.8, 0.8])\n",
        "im = ax.imshow(\n",
        "    accuracies.reshape((len(shearconstraints), len(angleconstraints))), cmap=\"hot\"\n",
        ")\n",
        "ax.set_xlabel(\"Angle\")\n",
        "ax.set_ylabel(\"Shear\")\n",
        "ax.set_xticks(np.arange(len(angleconstraints)))\n",
        "ax.set_xticklabels(angleconstraints)\n",
        "ax.set_yticks(np.arange(len(shearconstraints)))\n",
        "ax.set_yticklabels(shearconstraints)\n",
        "plt.colorbar(im)"
      ]
    },
    {
      "cell_type": "markdown",
      "metadata": {
        "id": "OHcZWJiFJDMh"
      },
      "source": [
        "It seems that rotation and shear don't mix! The best accuracy is when rotation is zero."
      ]
    },
    {
      "cell_type": "markdown",
      "metadata": {
        "id": "PAasQo1C3x4A"
      },
      "source": [
        "## Questions\n",
        "Try these questions for better understanding. You may not be able to solve all of them.\n",
        "1. What is the best value for angle constraint and shear constraint you got? How much did the accuracy improve as compared to not using augmentations?\n",
        "\n",
        "    Ans. I tried using angle constraints ranging from -90 degress to 90 degrees. And, the best value for angle constraints was found to be **30 degrees**. And as for the shear constraint, I tried using shear constraints ranging fro -2.0 to 2.0 and the best value for it was found to be **-1.0**.\n",
        "    For angle constraint, the accuracy has improved by **3.39%**(if we compare the best angle augmentation to the without augmentation one). And, for shear, it has improved by **2.12%**.\n",
        "2. Can you increase the accuracy by increasing the number of augmentations from each sample?\n",
        "\n",
        "    Ans. If we try out more number of augmentations, we may find better accuracy or we may not.\n",
        "    For example, in Angle augmentation, we previously were using augmentations ranging from 0 degrees to 90 degrees, and the best came out to be 30 degrees. This remained the same when we used the range -90 degreed to 90 degrees.\n",
        "    However, in Shear augmentation, when we used a bigger range, i.e., from -2.0 to 2.0 we got a better accuracy than what we had gotten previously.\n",
        "3. Try implementing a few augmentations of your own and experimenting with them. A good reference is <a href=https://www.analyticsvidhya.com/blog/2019/12/image-augmentation-deep-learning-pytorch/>here. </a>\n",
        "4. Try combining various augmentations. What is the highest accuracy you can get? What is the smallest training dataset you can take and still get accuracy above 50%?\n",
        "\n",
        "    Ans. I combined angle(rotation) and shear augmentation together with angle constraints ranging from -60 degrees to 60 degrees and shear constraints ranging from -1.4 to 1.4. The highest accuracy achieved was 65.08% when Rotation was -20 degrees and Shear was -1.4.\n",
        "    \n",
        "Whenever you do any experiment, a good practice is to vary the hyperparameters gradually and create a graph of your results, like we did for gridsearch."
      ]
    },
    {
      "cell_type": "markdown",
      "source": [
        "> Exercise: Try to take 50 images of each digit and calculate the performance on test set."
      ],
      "metadata": {
        "id": "zu590B33-Xp_"
      }
    },
    {
      "cell_type": "markdown",
      "source": [
        "#Taking 50 images"
      ],
      "metadata": {
        "id": "cgbnYr52gD6u"
      }
    },
    {
      "cell_type": "markdown",
      "source": [
        "**Without any augmentation**"
      ],
      "metadata": {
        "id": "bbNYYziYgI7y"
      }
    },
    {
      "cell_type": "code",
      "source": [
        "\n",
        "import numpy as np\n",
        "import matplotlib.pyplot as plt\n",
        "from keras.datasets import mnist\n",
        "from sklearn.utils.extmath import cartesian\n",
        "from skimage.transform import rotate, AffineTransform, warp\n",
        "\n",
        "# Load MNIST dataset\n",
        "(train_X, train_y), (test_X, test_y) = mnist.load_data()\n",
        "\n",
        "# Normalize data\n",
        "train_X = train_X / 255\n",
        "test_X = test_X / 255\n",
        "\n",
        "# Function to select 50 images of each digit\n",
        "def select_50_images(train_X, train_y):\n",
        "    selected_images = []\n",
        "    selected_labels = []\n",
        "    for digit in range(10):\n",
        "        indices = np.where(train_y == digit)[0][:50]\n",
        "        selected_images.append(train_X[indices])\n",
        "        selected_labels.append(train_y[indices])\n",
        "    return np.concatenate(selected_images), np.concatenate(selected_labels)\n",
        "\n",
        "# Select 50 images of each digit\n",
        "train_X_50, train_y_50 = select_50_images(train_X, train_y)\n",
        "\n",
        "# Nearest Neighbor Classifier\n",
        "def NN1(traindata, trainlabel, query):\n",
        "    diff = (traindata - query)\n",
        "    sq = diff * diff\n",
        "    dist = sq.sum(1)\n",
        "    label = trainlabel[np.argmin(dist)]\n",
        "    return label\n",
        "\n",
        "def NN(traindata, trainlabel, testdata):\n",
        "    traindata = traindata.reshape(-1, 28*28)\n",
        "    testdata = testdata.reshape(-1, 28*28)\n",
        "    predlabel = np.array([NN1(traindata, trainlabel, i) for i in testdata])\n",
        "    return predlabel\n",
        "\n",
        "def Accuracy(gtlabel, predlabel):\n",
        "    correct = (gtlabel == predlabel).sum()\n",
        "    return correct / len(gtlabel)\n",
        "\n",
        "# Train with 50 images of each digit\n",
        "testpred = NN(train_X_50, train_y_50, test_X)\n",
        "accuracy = Accuracy(test_y, testpred) * 100\n",
        "print(f\"Accuracy: {accuracy}%\")\n"
      ],
      "metadata": {
        "colab": {
          "base_uri": "https://localhost:8080/"
        },
        "id": "vY1qnD8sgMgi",
        "outputId": "e8a06179-c510-4449-9a3c-ab142980d3c7"
      },
      "execution_count": null,
      "outputs": [
        {
          "output_type": "stream",
          "name": "stdout",
          "text": [
            "Accuracy: 83.54%\n"
          ]
        }
      ]
    },
    {
      "cell_type": "markdown",
      "source": [
        "We observe that the accuracy comes out to be 83.54%."
      ],
      "metadata": {
        "id": "6tx6Xs_-gWKh"
      }
    },
    {
      "cell_type": "markdown",
      "source": [
        "**With Rotational Augmentation between -30 degrees and 30 degrees.**"
      ],
      "metadata": {
        "id": "o4YpWSe1gduV"
      }
    },
    {
      "cell_type": "code",
      "source": [
        "# Define rotation function\n",
        "def apply_rotation(image):\n",
        "    # Randomly rotate the image by an angle between -30 and 30 degrees\n",
        "    angle = np.random.uniform(-30, 30)\n",
        "    rotated_image = rotate(image, angle, mode='wrap')\n",
        "    return rotated_image\n",
        "\n",
        "def rotate_test_images(test_X):\n",
        "    return np.array([apply_rotation(img) for img in test_X])\n",
        "\n",
        "# Rotate test images\n",
        "test_X_rotated = rotate_test_images(test_X)\n",
        "\n",
        "# Train with 50 images of each digit\n",
        "testpred = NN(train_X_50, train_y_50, test_X_rotated)\n",
        "accuracy = Accuracy(test_y, testpred) * 100\n",
        "print(f\"Accuracy after applying rotation: {accuracy}%\")\n"
      ],
      "metadata": {
        "colab": {
          "base_uri": "https://localhost:8080/"
        },
        "id": "r_D3hK3RgtJq",
        "outputId": "cb02367f-e229-4d3a-b9fe-518e32532e45"
      },
      "execution_count": null,
      "outputs": [
        {
          "output_type": "stream",
          "name": "stdout",
          "text": [
            "Accuracy after applying rotation: 77.92%\n"
          ]
        }
      ]
    },
    {
      "cell_type": "markdown",
      "source": [
        "We observe that the accuracy has decreased by appliying rotation."
      ],
      "metadata": {
        "id": "DCniruxIhI4D"
      }
    },
    {
      "cell_type": "markdown",
      "source": [
        "**Using Rotation augmentation on 100 samples for better results**"
      ],
      "metadata": {
        "id": "csoRsXjvhOhM"
      }
    },
    {
      "cell_type": "code",
      "source": [
        "\n",
        "\n",
        "# Load MNIST dataset\n",
        "(train_X, train_y), (test_X, test_y) = mnist.load_data()\n",
        "\n",
        "# Normalize data\n",
        "train_X = train_X / 255\n",
        "test_X = test_X / 255\n",
        "\n",
        "# Function to select 50 images of each digit\n",
        "def select_100_images(train_X, train_y):\n",
        "    selected_images = []\n",
        "    selected_labels = []\n",
        "    for digit in range(10):\n",
        "        indices = np.where(train_y == digit)[0][:100]\n",
        "        selected_images.append(train_X[indices])\n",
        "        selected_labels.append(train_y[indices])\n",
        "    return np.concatenate(selected_images), np.concatenate(selected_labels)\n",
        "\n",
        "# Select 50 images of each digit\n",
        "train_X_100, train_y_100 = select_100_images(train_X, train_y)\n",
        "\n",
        "# Define rotation function\n",
        "def apply_rotation(image):\n",
        "    # Randomly rotate the image by an angle between -30 and 30 degrees\n",
        "    angle = np.random.uniform(-30, 30)\n",
        "    rotated_image = rotate(image, angle, mode='wrap')\n",
        "    return rotated_image\n",
        "\n",
        "def rotate_images(images):\n",
        "    return np.array([apply_rotation(img) for img in images])\n",
        "\n",
        "# Rotate both train and test images\n",
        "train_X_100_rotated = rotate_images(train_X_100)\n",
        "test_X_rotated = rotate_images(test_X)\n",
        "\n",
        "# Train with rotated images\n",
        "testpred = NN(train_X_100_rotated, train_y_100, test_X_rotated)\n",
        "accuracy = Accuracy(test_y, testpred) * 100\n",
        "print(f\"Accuracy after applying rotation to both train and test images: {accuracy}%\")\n"
      ],
      "metadata": {
        "colab": {
          "base_uri": "https://localhost:8080/"
        },
        "id": "3bF2CjV6hYbU",
        "outputId": "fe6a116e-e980-4feb-dbb0-9a6aaf0e2c0b"
      },
      "execution_count": null,
      "outputs": [
        {
          "output_type": "stream",
          "name": "stdout",
          "text": [
            "Accuracy after applying rotation to both train and test images: 83.72%\n"
          ]
        }
      ]
    },
    {
      "cell_type": "markdown",
      "source": [
        "We observe that the accuracy has increased if we use 100 samples"
      ],
      "metadata": {
        "id": "cVrxZ9wCiqhA"
      }
    },
    {
      "cell_type": "markdown",
      "source": [
        "**Using shear Augmentation between -0.3 and 0.3**"
      ],
      "metadata": {
        "id": "483ycfFcivGR"
      }
    },
    {
      "cell_type": "code",
      "source": [
        "def apply_shear(image):\n",
        "    # Randomly shear the image with a shear level between -0.3 and 0.3\n",
        "    shear_level = np.random.uniform(-0.3, 0.3)\n",
        "    transform = AffineTransform(shear=shear_level)\n",
        "    sheared_image = warp(image, transform, mode='wrap')\n",
        "    return sheared_image\n",
        "\n",
        "def shear_test_images(test_X):\n",
        "    return np.array([apply_shear(img) for img in test_X])\n",
        "\n",
        "# Shear test images\n",
        "test_X_sheared = shear_test_images(test_X)\n",
        "\n",
        "# Train with 50 images of each digit\n",
        "testpred = NN(train_X_50, train_y_50, test_X_sheared)\n",
        "accuracy = Accuracy(test_y, testpred) * 100\n",
        "print(f\"Accuracy after applying shear: {accuracy}%\")\n"
      ],
      "metadata": {
        "colab": {
          "base_uri": "https://localhost:8080/"
        },
        "id": "5fAg1SUhjXaL",
        "outputId": "31aa5f6f-6ff1-4173-bb9d-0cb6cd85fd6b"
      },
      "execution_count": null,
      "outputs": [
        {
          "output_type": "stream",
          "name": "stdout",
          "text": [
            "Accuracy after applying shear: 53.92%\n"
          ]
        }
      ]
    },
    {
      "cell_type": "markdown",
      "source": [
        "We observe that the shear augmentation gives very low accuracy"
      ],
      "metadata": {
        "id": "WbJl5mxjj9qu"
      }
    },
    {
      "cell_type": "markdown",
      "source": [
        "**Shear and Rotation Augmentation together.**"
      ],
      "metadata": {
        "id": "mk1KcNI0kFYi"
      }
    },
    {
      "cell_type": "code",
      "source": [
        "def apply_transformations(image):\n",
        "    image = apply_rotation(image)\n",
        "    image = apply_shear(image)\n",
        "    return image\n",
        "\n",
        "def transform_images(images):\n",
        "    return np.array([apply_transformations(img) for img in images])\n",
        "\n",
        "# Apply transformations to both train and test images\n",
        "train_X_50_transformed = transform_images(train_X_50)\n",
        "test_X_transformed = transform_images(test_X)\n",
        "testpred = NN(train_X_50_transformed, train_y_50, test_X_transformed)\n",
        "accuracy = Accuracy(test_y, testpred) * 100\n",
        "print(f\"Accuracy after applying rotation and shear to both train and test images: {accuracy}%\")"
      ],
      "metadata": {
        "colab": {
          "base_uri": "https://localhost:8080/"
        },
        "id": "9PPQTCGNj4Ql",
        "outputId": "809dbe69-c95f-44b6-9856-98272265833e"
      },
      "execution_count": null,
      "outputs": [
        {
          "output_type": "stream",
          "name": "stdout",
          "text": [
            "Accuracy after applying rotation and shear to both train and test images: 73.02%\n"
          ]
        }
      ]
    }
  ],
  "metadata": {
    "colab": {
      "provenance": [],
      "include_colab_link": true
    },
    "kernelspec": {
      "display_name": "Python 3",
      "name": "python3"
    },
    "language_info": {
      "codemirror_mode": {
        "name": "ipython",
        "version": 3
      },
      "file_extension": ".py",
      "mimetype": "text/x-python",
      "name": "python",
      "nbconvert_exporter": "python",
      "pygments_lexer": "ipython3",
      "version": "3.10.10"
    }
  },
  "nbformat": 4,
  "nbformat_minor": 0
}