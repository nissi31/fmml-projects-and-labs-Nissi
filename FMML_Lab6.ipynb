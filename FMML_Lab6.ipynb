{
  "nbformat": 4,
  "nbformat_minor": 0,
  "metadata": {
    "colab": {
      "provenance": [],
      "include_colab_link": true
    },
    "kernelspec": {
      "name": "python3",
      "display_name": "Python 3"
    },
    "language_info": {
      "name": "python"
    }
  },
  "cells": [
    {
      "cell_type": "markdown",
      "metadata": {
        "id": "view-in-github",
        "colab_type": "text"
      },
      "source": [
        "<a href=\"https://colab.research.google.com/github/nissi31/fmml-projects-and-labs-Nissi/blob/main/FMML_Lab6.ipynb\" target=\"_parent\"><img src=\"https://colab.research.google.com/assets/colab-badge.svg\" alt=\"Open In Colab\"/></a>"
      ]
    },
    {
      "cell_type": "code",
      "source": [
        "import numpy as np\n",
        "from keras.datasets import mnist"
      ],
      "metadata": {
        "id": "3gonCZQn6whh"
      },
      "execution_count": null,
      "outputs": []
    },
    {
      "cell_type": "code",
      "source": [
        "def NN1(traindata, trainlabel, query):\n",
        "    \"\"\"\n",
        "    This function takes in the training data, training labels and a query point\n",
        "    and returns the predicted label for the query point using the nearest neighbour algorithm\n",
        "\n",
        "    traindata: numpy array of shape (n,d) where n is the number of samples and d is the number of features\n",
        "    trainlabel: numpy array of shape (n,) where n is the number of samples\n",
        "    query: numpy array of shape (d,) where d is the number of features\n",
        "\n",
        "    returns: the predicted label for the query point which is the label of the training data which is closest to the query point\n",
        "    \"\"\"\n",
        "    diff = (\n",
        "        traindata - query\n",
        "    )  # find the difference between features. Numpy automatically takes care of the size here\n",
        "    sq = diff * diff  # square the differences\n",
        "    dist = sq.sum(1)  # add up the squares\n",
        "    label = trainlabel[np.argmin(dist)]\n",
        "    return label\n",
        "\n",
        "\n",
        "def NN(traindata, trainlabel, testdata):\n",
        "    \"\"\"\n",
        "    This function takes in the training data, training labels and test data\n",
        "    and returns the predicted labels for the test data using the nearest neighbour algorithm\n",
        "\n",
        "    traindata: numpy array of shape (n,d) where n is the number of samples and d is the number of features\n",
        "    trainlabel: numpy array of shape (n,) where n is the number of samples\n",
        "    testdata: numpy array of shape (m,d) where m is the number of test samples and d is the number of features\n",
        "\n",
        "    returns: the predicted labels for the test data which is the label of the training data which is closest to each test point\n",
        "    \"\"\"\n",
        "    predlabel = np.array([NN1(traindata, trainlabel, i) for i in testdata])\n",
        "    return predlabel\n",
        "\n",
        "\n",
        "def Accuracy(gtlabel, predlabel):\n",
        "    \"\"\"\n",
        "    This function takes in the ground-truth labels and predicted labels\n",
        "    and returns the accuracy of the classifier\n",
        "\n",
        "    gtlabel: numpy array of shape (n,) where n is the number of samples\n",
        "    predlabel: numpy array of shape (n,) where n is the number of samples\n",
        "\n",
        "    returns: the accuracy of the classifier which is the number of correct predictions divided by the total number of predictions\n",
        "    \"\"\"\n",
        "    assert len(gtlabel) == len(\n",
        "        predlabel\n",
        "    ), \"Length of the ground-truth labels and predicted labels should be the same\"\n",
        "    correct = (\n",
        "        gtlabel == predlabel\n",
        "    ).sum()  # count the number of times the groundtruth label is equal to the predicted label.\n",
        "    return correct / len(gtlabel)\n",
        "\n",
        "\n",
        "def cumArray(img):\n",
        "    img2 = img.copy()\n",
        "    for ii in range(1, img2.shape[1]):\n",
        "        # for every row, add up all the rows above it.\n",
        "        img2[ii, :] = img2[ii, :] + img2[ii - 1, :]\n",
        "    img2 = img2 > 0\n",
        "    return img2\n",
        "\n",
        "\n",
        "def getHolePixels(img):\n",
        "    \"\"\"\n",
        "    This function takes in a binary image and returns the pixels that are holes in the image\n",
        "\n",
        "    img: numpy array of shape (n,m) where n is the height of the image and m is the width of the image\n",
        "\n",
        "    returns: a binary image of the same shape as the input image where the holes are filled in\n",
        "    \"\"\"\n",
        "    im1 = cumArray(img)\n",
        "    # rotate and cumulate it again for differnt direction\n",
        "    im2 = np.rot90(cumArray(np.rot90(img)), 3)\n",
        "    im3 = np.rot90(cumArray(np.rot90(img, 2)), 2)\n",
        "    im4 = np.rot90(cumArray(np.rot90(img, 3)), 1)\n",
        "    # this will create a binary image with all the holes filled in.\n",
        "    hull = im1 & im2 & im3 & im4\n",
        "    # remove the original digit to leave behind the holes\n",
        "    hole = hull & ~(img > 0)\n",
        "    return hole\n",
        "\n",
        "\n",
        "def getHullPixels(img):\n",
        "    \"\"\"\n",
        "    This function takes in a binary image and returns the pixels that are the convex hull of the image\n",
        "\n",
        "    img: numpy array of shape (n,m) where n is the height of the image and m is the width of the image\n",
        "\n",
        "    returns: a binary image of the same shape as the input image where the convex hull is filled in\n",
        "    \"\"\"\n",
        "    im1 = cumArray(img)\n",
        "    # rotate and cumulate it again for differnt direction\n",
        "    im2 = np.rot90(cumArray(np.rot90(img)), 3)\n",
        "    im3 = np.rot90(cumArray(np.rot90(img, 2)), 2)\n",
        "    im4 = np.rot90(cumArray(np.rot90(img, 3)), 1)\n",
        "    # this will create a binary image with all the holes filled in.\n",
        "    hull = im1 & im2 & im3 & im4\n",
        "    return hull\n",
        "\n",
        "\n",
        "def minus(a, b):\n",
        "    \"\"\"\n",
        "    This function takes in two binary images and returns the difference between the two images\n",
        "    \"\"\"\n",
        "    return a & ~b\n",
        "\n",
        "\n",
        "def getBoundaryPixels(img):\n",
        "    \"\"\"\n",
        "    This function takes in a binary image and returns the pixels that are the boundary of the image\n",
        "\n",
        "    img: numpy array of shape (n,m) where n is the height of the image and m is the width of the image\n",
        "\n",
        "    returns: a binary image of the same shape as the input image where the boundary is filled in\n",
        "    \"\"\"\n",
        "    img = img.copy() > 0  # binarize the image\n",
        "    rshift = np.roll(img, 1, 1)\n",
        "    lshift = np.roll(img, -1, 1)\n",
        "    ushift = np.roll(img, -1, 0)\n",
        "    dshift = np.roll(img, 1, 0)\n",
        "    boundary = (\n",
        "        minus(img, rshift)\n",
        "        | minus(img, lshift)\n",
        "        | minus(img, ushift)\n",
        "        | minus(img, dshift)\n",
        "    )\n",
        "    return boundary"
      ],
      "metadata": {
        "id": "N0x7-vb36xWU"
      },
      "execution_count": null,
      "outputs": []
    },
    {
      "cell_type": "code",
      "source": [
        "(train_X, train_y), (test_X, test_y) = mnist.load_data()\n",
        "train_X, test_X = train_X / 255, test_X / 255\n",
        "\n",
        "nclasses = 4\n",
        "train_X, train_y = train_X[train_y < nclasses], train_y[train_y < nclasses]\n",
        "test_X, test_y = test_X[test_y < nclasses], test_y[test_y < nclasses]\n",
        "\n",
        "train_X, train_y = train_X[::100].copy(), train_y[::100].copy()\n",
        "test_X, test_y = test_X[::100].copy(), test_y[::100].copy()"
      ],
      "metadata": {
        "id": "_p-lw_Yw6-AX",
        "colab": {
          "base_uri": "https://localhost:8080/"
        },
        "outputId": "af3041f9-254f-4fd7-edac-4616c5d5fe72"
      },
      "execution_count": null,
      "outputs": [
        {
          "output_type": "stream",
          "name": "stdout",
          "text": [
            "Downloading data from https://storage.googleapis.com/tensorflow/tf-keras-datasets/mnist.npz\n",
            "\u001b[1m11490434/11490434\u001b[0m \u001b[32m━━━━━━━━━━━━━━━━━━━━\u001b[0m\u001b[37m\u001b[0m \u001b[1m0s\u001b[0m 0us/step\n"
          ]
        }
      ]
    },
    {
      "cell_type": "code",
      "source": [
        "# Extract all features\n",
        "train_hole = np.array([getHolePixels(i).sum() for i in train_X])\n",
        "test_hole = np.array([getHolePixels(i).sum() for i in test_X])\n",
        "train_bound = np.array([getBoundaryPixels(i).sum() for i in train_X])\n",
        "test_bound = np.array([getBoundaryPixels(i).sum() for i in test_X])\n",
        "train_hull = np.array([getHullPixels(i).sum() for i in train_X])\n",
        "test_hull = np.array([getHullPixels(i).sum() for i in test_X])\n",
        "train_sum = np.sum(train_X, (1, 2)) / (28 * 28)\n",
        "test_sum = np.sum(test_X, (1, 2)) / (28 * 28)"
      ],
      "metadata": {
        "id": "Y_anyBDH7BI9"
      },
      "execution_count": null,
      "outputs": []
    },
    {
      "cell_type": "code",
      "source": [
        "# Function to test different feature combinations\n",
        "def test_feature_combination(train_features, test_features, feature_names):\n",
        "    train_feats = np.column_stack(train_features)\n",
        "    test_feats = np.column_stack(test_features)\n",
        "\n",
        "    test_pred = NN(train_feats, train_y, test_feats)\n",
        "    acc = Accuracy(test_y, test_pred)\n",
        "    print(f\"Accuracy with features {feature_names}: {acc*100:.2f}%\")\n"
      ],
      "metadata": {
        "id": "7fe8hcmA7DQJ"
      },
      "execution_count": null,
      "outputs": []
    },
    {
      "cell_type": "code",
      "source": [
        "# Two features\n",
        "test_feature_combination([train_hole, train_bound], [test_hole, test_bound], [\"hole\", \"boundary\"])\n",
        "test_feature_combination([train_hole, train_hull], [test_hole, test_hull], [\"hole\", \"hull\"])\n",
        "test_feature_combination([train_hole, train_sum], [test_hole, test_sum], [\"hole\", \"sum\"])\n",
        "test_feature_combination([train_bound, train_hull], [test_bound, test_hull], [\"boundary\", \"hull\"])\n",
        "test_feature_combination([train_bound, train_sum], [test_bound, test_sum], [\"boundary\", \"sum\"])\n",
        "test_feature_combination([train_hull, train_sum], [test_hull, test_sum], [\"hull\", \"sum\"])"
      ],
      "metadata": {
        "colab": {
          "base_uri": "https://localhost:8080/"
        },
        "id": "uPm7-f_c7DJ1",
        "outputId": "1a8bd0a7-1a7a-4127-c99d-97cbbac44f7c"
      },
      "execution_count": null,
      "outputs": [
        {
          "output_type": "stream",
          "name": "stdout",
          "text": [
            "Accuracy with features ['hole', 'boundary']: 76.19%\n",
            "Accuracy with features ['hole', 'hull']: 73.81%\n",
            "Accuracy with features ['hole', 'sum']: 69.05%\n",
            "Accuracy with features ['boundary', 'hull']: 69.05%\n",
            "Accuracy with features ['boundary', 'sum']: 64.29%\n",
            "Accuracy with features ['hull', 'sum']: 66.67%\n"
          ]
        }
      ]
    },
    {
      "cell_type": "code",
      "source": [
        "# Three features\n",
        "test_feature_combination([train_hole, train_bound, train_hull], [test_hole, test_bound, test_hull], [\"hole\", \"boundary\", \"hull\"])\n",
        "test_feature_combination([train_hole, train_bound, train_sum], [test_hole, test_bound, test_sum], [\"hole\", \"boundary\", \"sum\"])\n",
        "test_feature_combination([train_hole, train_hull, train_sum], [test_hole, test_hull, test_sum], [\"hole\", \"hull\", \"sum\"])\n",
        "test_feature_combination([train_bound, train_hull, train_sum], [test_bound, test_hull, test_sum], [\"boundary\", \"hull\", \"sum\"])"
      ],
      "metadata": {
        "colab": {
          "base_uri": "https://localhost:8080/"
        },
        "id": "y0cjrFqQ7LWe",
        "outputId": "439f49a3-0a57-481a-ff2b-1b1b048f2cd4"
      },
      "execution_count": null,
      "outputs": [
        {
          "output_type": "stream",
          "name": "stdout",
          "text": [
            "Accuracy with features ['hole', 'boundary', 'hull']: 71.43%\n",
            "Accuracy with features ['hole', 'boundary', 'sum']: 76.19%\n",
            "Accuracy with features ['hole', 'hull', 'sum']: 71.43%\n",
            "Accuracy with features ['boundary', 'hull', 'sum']: 69.05%\n"
          ]
        }
      ]
    },
    {
      "cell_type": "code",
      "source": [
        "# All four features\n",
        "test_feature_combination([train_hole, train_bound, train_hull, train_sum], [test_hole, test_bound, test_hull, test_sum], [\"hole\", \"boundary\", \"hull\", \"sum\"])"
      ],
      "metadata": {
        "colab": {
          "base_uri": "https://localhost:8080/"
        },
        "id": "TE-NCoSM7LRy",
        "outputId": "31f8e89a-1059-42a9-831e-076e96ad1734"
      },
      "execution_count": null,
      "outputs": [
        {
          "output_type": "stream",
          "name": "stdout",
          "text": [
            "Accuracy with features ['hole', 'boundary', 'hull', 'sum']: 71.43%\n"
          ]
        }
      ]
    }
  ]
}